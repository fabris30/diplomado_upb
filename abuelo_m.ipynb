{
 "cells": [
  {
   "cell_type": "code",
   "execution_count": 69,
   "id": "f7a98cff",
   "metadata": {},
   "outputs": [],
   "source": [
    "import random"
   ]
  },
  {
   "cell_type": "code",
   "execution_count": 70,
   "id": "977b686a",
   "metadata": {},
   "outputs": [
    {
     "data": {
      "text/plain": [
       "4"
      ]
     },
     "execution_count": 70,
     "metadata": {},
     "output_type": "execute_result"
    }
   ],
   "source": [
    "inicio=random.randint(0,5)\n",
    "inicio"
   ]
  },
  {
   "cell_type": "code",
   "execution_count": 71,
   "id": "f5dbd424",
   "metadata": {},
   "outputs": [
    {
     "data": {
      "text/plain": [
       "12"
      ]
     },
     "execution_count": 71,
     "metadata": {},
     "output_type": "execute_result"
    }
   ],
   "source": [
    "final=random.randint(1,14)\n",
    "final"
   ]
  },
  {
   "cell_type": "code",
   "execution_count": 72,
   "id": "4777bfbf",
   "metadata": {},
   "outputs": [
    {
     "name": "stdout",
     "output_type": "stream",
     "text": [
      "ingrese nombre de cantante de reggaeton: Luyam\n"
     ]
    }
   ],
   "source": [
    "cantante= input( \"ingrese nombre de cantante de reggaeton: \")"
   ]
  },
  {
   "cell_type": "code",
   "execution_count": 76,
   "id": "60a0d705",
   "metadata": {},
   "outputs": [],
   "source": [
    "cancion= [\"voy por ti\",\"amarte siempre\",\"llevarte de viaje\",\"comprarte todo\",\"voy a ciegas\",\"quererte toda la vida\",\"ir en mi camioneta\",\"regalarte la luna\",\"regalarte las estrellas\",\"vamor a bailar\",\"besarte\",\"bailarte\",\"rumbearte\",\"tirarte\"]"
   ]
  },
  {
   "cell_type": "code",
   "execution_count": 77,
   "id": "a7541675",
   "metadata": {},
   "outputs": [
    {
     "name": "stdout",
     "output_type": "stream",
     "text": [
      "['voy a ciegas', 'quererte toda la vida', 'ir en mi camioneta', 'regalarte la luna', 'regalarte las estrellas', 'vamor a bailar', 'besarte', 'bailarte'] Luyam\n",
      "['voy a ciegas', 'quererte toda la vida', 'ir en mi camioneta', 'regalarte la luna', 'regalarte las estrellas', 'vamor a bailar', 'besarte', 'bailarte'] Luyam\n",
      "['voy a ciegas', 'quererte toda la vida', 'ir en mi camioneta', 'regalarte la luna', 'regalarte las estrellas', 'vamor a bailar', 'besarte', 'bailarte'] Luyam\n",
      "['voy a ciegas', 'quererte toda la vida', 'ir en mi camioneta', 'regalarte la luna', 'regalarte las estrellas', 'vamor a bailar', 'besarte', 'bailarte'] Luyam\n",
      "['voy a ciegas', 'quererte toda la vida', 'ir en mi camioneta', 'regalarte la luna', 'regalarte las estrellas', 'vamor a bailar', 'besarte', 'bailarte'] Luyam\n",
      "['voy a ciegas', 'quererte toda la vida', 'ir en mi camioneta', 'regalarte la luna', 'regalarte las estrellas', 'vamor a bailar', 'besarte', 'bailarte'] Luyam\n",
      "['voy a ciegas', 'quererte toda la vida', 'ir en mi camioneta', 'regalarte la luna', 'regalarte las estrellas', 'vamor a bailar', 'besarte', 'bailarte'] Luyam\n",
      "['voy a ciegas', 'quererte toda la vida', 'ir en mi camioneta', 'regalarte la luna', 'regalarte las estrellas', 'vamor a bailar', 'besarte', 'bailarte'] Luyam\n",
      "['voy a ciegas', 'quererte toda la vida', 'ir en mi camioneta', 'regalarte la luna', 'regalarte las estrellas', 'vamor a bailar', 'besarte', 'bailarte'] Luyam\n",
      "['voy a ciegas', 'quererte toda la vida', 'ir en mi camioneta', 'regalarte la luna', 'regalarte las estrellas', 'vamor a bailar', 'besarte', 'bailarte'] Luyam\n",
      "['voy a ciegas', 'quererte toda la vida', 'ir en mi camioneta', 'regalarte la luna', 'regalarte las estrellas', 'vamor a bailar', 'besarte', 'bailarte'] Luyam\n",
      "['voy a ciegas', 'quererte toda la vida', 'ir en mi camioneta', 'regalarte la luna', 'regalarte las estrellas', 'vamor a bailar', 'besarte', 'bailarte'] Luyam\n",
      "['voy a ciegas', 'quererte toda la vida', 'ir en mi camioneta', 'regalarte la luna', 'regalarte las estrellas', 'vamor a bailar', 'besarte', 'bailarte'] Luyam\n",
      "['voy a ciegas', 'quererte toda la vida', 'ir en mi camioneta', 'regalarte la luna', 'regalarte las estrellas', 'vamor a bailar', 'besarte', 'bailarte'] Luyam\n",
      "['voy a ciegas', 'quererte toda la vida', 'ir en mi camioneta', 'regalarte la luna', 'regalarte las estrellas', 'vamor a bailar', 'besarte', 'bailarte'] Luyam\n",
      "['voy a ciegas', 'quererte toda la vida', 'ir en mi camioneta', 'regalarte la luna', 'regalarte las estrellas', 'vamor a bailar', 'besarte', 'bailarte'] Luyam\n",
      "['voy a ciegas', 'quererte toda la vida', 'ir en mi camioneta', 'regalarte la luna', 'regalarte las estrellas', 'vamor a bailar', 'besarte', 'bailarte'] Luyam\n",
      "['voy a ciegas', 'quererte toda la vida', 'ir en mi camioneta', 'regalarte la luna', 'regalarte las estrellas', 'vamor a bailar', 'besarte', 'bailarte'] Luyam\n",
      "['voy a ciegas', 'quererte toda la vida', 'ir en mi camioneta', 'regalarte la luna', 'regalarte las estrellas', 'vamor a bailar', 'besarte', 'bailarte'] Luyam\n",
      "['voy a ciegas', 'quererte toda la vida', 'ir en mi camioneta', 'regalarte la luna', 'regalarte las estrellas', 'vamor a bailar', 'besarte', 'bailarte'] Luyam\n",
      "['voy a ciegas', 'quererte toda la vida', 'ir en mi camioneta', 'regalarte la luna', 'regalarte las estrellas', 'vamor a bailar', 'besarte', 'bailarte'] Luyam\n",
      "['voy a ciegas', 'quererte toda la vida', 'ir en mi camioneta', 'regalarte la luna', 'regalarte las estrellas', 'vamor a bailar', 'besarte', 'bailarte'] Luyam\n",
      "['voy a ciegas', 'quererte toda la vida', 'ir en mi camioneta', 'regalarte la luna', 'regalarte las estrellas', 'vamor a bailar', 'besarte', 'bailarte'] Luyam\n",
      "['voy a ciegas', 'quererte toda la vida', 'ir en mi camioneta', 'regalarte la luna', 'regalarte las estrellas', 'vamor a bailar', 'besarte', 'bailarte'] Luyam\n",
      "['voy a ciegas', 'quererte toda la vida', 'ir en mi camioneta', 'regalarte la luna', 'regalarte las estrellas', 'vamor a bailar', 'besarte', 'bailarte'] Luyam\n",
      "['voy a ciegas', 'quererte toda la vida', 'ir en mi camioneta', 'regalarte la luna', 'regalarte las estrellas', 'vamor a bailar', 'besarte', 'bailarte'] Luyam\n",
      "['voy a ciegas', 'quererte toda la vida', 'ir en mi camioneta', 'regalarte la luna', 'regalarte las estrellas', 'vamor a bailar', 'besarte', 'bailarte'] Luyam\n",
      "['voy a ciegas', 'quererte toda la vida', 'ir en mi camioneta', 'regalarte la luna', 'regalarte las estrellas', 'vamor a bailar', 'besarte', 'bailarte'] Luyam\n",
      "['voy a ciegas', 'quererte toda la vida', 'ir en mi camioneta', 'regalarte la luna', 'regalarte las estrellas', 'vamor a bailar', 'besarte', 'bailarte'] Luyam\n",
      "['voy a ciegas', 'quererte toda la vida', 'ir en mi camioneta', 'regalarte la luna', 'regalarte las estrellas', 'vamor a bailar', 'besarte', 'bailarte'] Luyam\n",
      "['voy a ciegas', 'quererte toda la vida', 'ir en mi camioneta', 'regalarte la luna', 'regalarte las estrellas', 'vamor a bailar', 'besarte', 'bailarte'] Luyam\n",
      "['voy a ciegas', 'quererte toda la vida', 'ir en mi camioneta', 'regalarte la luna', 'regalarte las estrellas', 'vamor a bailar', 'besarte', 'bailarte'] Luyam\n",
      "['voy a ciegas', 'quererte toda la vida', 'ir en mi camioneta', 'regalarte la luna', 'regalarte las estrellas', 'vamor a bailar', 'besarte', 'bailarte'] Luyam\n",
      "['voy a ciegas', 'quererte toda la vida', 'ir en mi camioneta', 'regalarte la luna', 'regalarte las estrellas', 'vamor a bailar', 'besarte', 'bailarte'] Luyam\n",
      "['voy a ciegas', 'quererte toda la vida', 'ir en mi camioneta', 'regalarte la luna', 'regalarte las estrellas', 'vamor a bailar', 'besarte', 'bailarte'] Luyam\n",
      "['voy a ciegas', 'quererte toda la vida', 'ir en mi camioneta', 'regalarte la luna', 'regalarte las estrellas', 'vamor a bailar', 'besarte', 'bailarte'] Luyam\n",
      "['voy a ciegas', 'quererte toda la vida', 'ir en mi camioneta', 'regalarte la luna', 'regalarte las estrellas', 'vamor a bailar', 'besarte', 'bailarte'] Luyam\n",
      "['voy a ciegas', 'quererte toda la vida', 'ir en mi camioneta', 'regalarte la luna', 'regalarte las estrellas', 'vamor a bailar', 'besarte', 'bailarte'] Luyam\n",
      "['voy a ciegas', 'quererte toda la vida', 'ir en mi camioneta', 'regalarte la luna', 'regalarte las estrellas', 'vamor a bailar', 'besarte', 'bailarte'] Luyam\n",
      "['voy a ciegas', 'quererte toda la vida', 'ir en mi camioneta', 'regalarte la luna', 'regalarte las estrellas', 'vamor a bailar', 'besarte', 'bailarte'] Luyam\n",
      "['voy a ciegas', 'quererte toda la vida', 'ir en mi camioneta', 'regalarte la luna', 'regalarte las estrellas', 'vamor a bailar', 'besarte', 'bailarte'] Luyam\n",
      "['voy a ciegas', 'quererte toda la vida', 'ir en mi camioneta', 'regalarte la luna', 'regalarte las estrellas', 'vamor a bailar', 'besarte', 'bailarte'] Luyam\n",
      "['voy a ciegas', 'quererte toda la vida', 'ir en mi camioneta', 'regalarte la luna', 'regalarte las estrellas', 'vamor a bailar', 'besarte', 'bailarte'] Luyam\n",
      "['voy a ciegas', 'quererte toda la vida', 'ir en mi camioneta', 'regalarte la luna', 'regalarte las estrellas', 'vamor a bailar', 'besarte', 'bailarte'] Luyam\n",
      "['voy a ciegas', 'quererte toda la vida', 'ir en mi camioneta', 'regalarte la luna', 'regalarte las estrellas', 'vamor a bailar', 'besarte', 'bailarte'] Luyam\n",
      "['voy a ciegas', 'quererte toda la vida', 'ir en mi camioneta', 'regalarte la luna', 'regalarte las estrellas', 'vamor a bailar', 'besarte', 'bailarte'] Luyam\n",
      "['voy a ciegas', 'quererte toda la vida', 'ir en mi camioneta', 'regalarte la luna', 'regalarte las estrellas', 'vamor a bailar', 'besarte', 'bailarte'] Luyam\n",
      "['voy a ciegas', 'quererte toda la vida', 'ir en mi camioneta', 'regalarte la luna', 'regalarte las estrellas', 'vamor a bailar', 'besarte', 'bailarte'] Luyam\n",
      "['voy a ciegas', 'quererte toda la vida', 'ir en mi camioneta', 'regalarte la luna', 'regalarte las estrellas', 'vamor a bailar', 'besarte', 'bailarte'] Luyam\n",
      "['voy a ciegas', 'quererte toda la vida', 'ir en mi camioneta', 'regalarte la luna', 'regalarte las estrellas', 'vamor a bailar', 'besarte', 'bailarte'] Luyam\n",
      "['voy a ciegas', 'quererte toda la vida', 'ir en mi camioneta', 'regalarte la luna', 'regalarte las estrellas', 'vamor a bailar', 'besarte', 'bailarte'] Luyam\n",
      "['voy a ciegas', 'quererte toda la vida', 'ir en mi camioneta', 'regalarte la luna', 'regalarte las estrellas', 'vamor a bailar', 'besarte', 'bailarte'] Luyam\n",
      "['voy a ciegas', 'quererte toda la vida', 'ir en mi camioneta', 'regalarte la luna', 'regalarte las estrellas', 'vamor a bailar', 'besarte', 'bailarte'] Luyam\n",
      "['voy a ciegas', 'quererte toda la vida', 'ir en mi camioneta', 'regalarte la luna', 'regalarte las estrellas', 'vamor a bailar', 'besarte', 'bailarte'] Luyam\n",
      "['voy a ciegas', 'quererte toda la vida', 'ir en mi camioneta', 'regalarte la luna', 'regalarte las estrellas', 'vamor a bailar', 'besarte', 'bailarte'] Luyam\n",
      "['voy a ciegas', 'quererte toda la vida', 'ir en mi camioneta', 'regalarte la luna', 'regalarte las estrellas', 'vamor a bailar', 'besarte', 'bailarte'] Luyam\n"
     ]
    }
   ],
   "source": [
    "for j in range(inicio):\n",
    "    for i in cancion:\n",
    "       \n",
    "        print(cancion[inicio:final],cantante)"
   ]
  },
  {
   "cell_type": "code",
   "execution_count": null,
   "id": "936276a5",
   "metadata": {},
   "outputs": [],
   "source": []
  },
  {
   "cell_type": "code",
   "execution_count": null,
   "id": "c8909f46",
   "metadata": {},
   "outputs": [],
   "source": []
  },
  {
   "cell_type": "code",
   "execution_count": null,
   "id": "f9058c09",
   "metadata": {},
   "outputs": [],
   "source": []
  }
 ],
 "metadata": {
  "kernelspec": {
   "display_name": "Python 3 (ipykernel)",
   "language": "python",
   "name": "python3"
  },
  "language_info": {
   "codemirror_mode": {
    "name": "ipython",
    "version": 3
   },
   "file_extension": ".py",
   "mimetype": "text/x-python",
   "name": "python",
   "nbconvert_exporter": "python",
   "pygments_lexer": "ipython3",
   "version": "3.9.12"
  }
 },
 "nbformat": 4,
 "nbformat_minor": 5
}
